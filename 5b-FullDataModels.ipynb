{
 "cells": [
  {
   "cell_type": "markdown",
   "id": "cc6a6e4c-f1fd-4289-bc0c-45fa0146a34b",
   "metadata": {},
   "source": [
    "# Training models on full dataset\n",
    "\n",
    "Here, we train the models on the full dataset, using the best hyperparameters from cross-validation. We save the models for later use in simulations. We provide model explanations, using various interpretability techniques."
   ]
  },
  {
   "cell_type": "code",
   "execution_count": 1,
   "id": "ca4724fb-2f3a-4459-b75a-683eeeb8c4f1",
   "metadata": {},
   "outputs": [],
   "source": [
    "import pandas as pd\n",
    "import numpy as np\n",
    "import matplotlib.pyplot as plt\n",
    "import seaborn as sns\n",
    "import numpy as np\n",
    "\n",
    "from sklearnex import patch_sklearn\n",
    "patch_sklearn()\n",
    "\n",
    "import os\n",
    "os.environ[\"SKLEARNEX_VERBOSE\"] = \"INFO\"\n",
    "\n",
    "from sklearn.metrics import r2_score, mean_squared_error\n",
    "from xgboost import XGBRegressor\n",
    "import joblib\n",
    "\n",
    "pd.set_option('display.max_columns', None)\n",
    "pd.set_option('display.max_rows', None)"
   ]
  },
  {
   "cell_type": "markdown",
   "id": "2009e306-2b95-4300-8e8c-ea2d329e9847",
   "metadata": {},
   "source": [
    "## Data"
   ]
  },
  {
   "cell_type": "code",
   "execution_count": 2,
   "id": "a8043486-6acd-46e2-9677-244c8e194a31",
   "metadata": {},
   "outputs": [],
   "source": [
    "data = pd.read_csv('data/data.csv', low_memory=False)"
   ]
  },
  {
   "cell_type": "code",
   "execution_count": 3,
   "id": "f19b85d6-2dcc-4a81-9fc4-c9e25a8b4b6d",
   "metadata": {},
   "outputs": [],
   "source": [
    "data['Coastal?'] = data['Coastal?'].fillna(False).astype(int)\n",
    "\n",
    "mapping_dict = {'Arid': 0, 'Snow': 1, 'Temperate': 2, 'Tropical': 3}\n",
    "data['Climate Zone'] = data['Climate Zone'].map(mapping_dict)"
   ]
  },
  {
   "cell_type": "code",
   "execution_count": 4,
   "id": "dd788fef-2543-40da-b134-4f87b561950c",
   "metadata": {},
   "outputs": [],
   "source": [
    "features = ['$\\\\Delta$Built Fraction', '$\\\\Delta$Grass Fraction', '$\\\\Delta$Tree Fraction', \n",
    "            '$\\\\Delta$Built Albedo', '$\\\\Delta$Grass Albedo', '$\\\\Delta$Tree Albedo', \n",
    "            '$\\\\Delta$Elevation', 'Coastal?', 'Climate Zone']"
   ]
  },
  {
   "cell_type": "markdown",
   "id": "89ceedea-acea-405a-817d-43e2ec408090",
   "metadata": {},
   "source": [
    "## Helper Functions"
   ]
  },
  {
   "cell_type": "code",
   "execution_count": 5,
   "id": "d9b0635f-882d-446e-9d6f-5fe7d8a21623",
   "metadata": {},
   "outputs": [],
   "source": [
    "def get_data(label):\n",
    "    df = data[features+[label]].dropna().copy()\n",
    "    X  = df[features]\n",
    "    y  = df[label]\n",
    "    \n",
    "    return X, y"
   ]
  },
  {
   "cell_type": "code",
   "execution_count": 6,
   "id": "804fa8fd-1e9f-426d-8926-38ce33a5bb32",
   "metadata": {},
   "outputs": [],
   "source": [
    "def get_model(label, n_estimators, max_depth, filename):\n",
    "    X, y = get_data(label)\n",
    "    model = XGBRegressor(n_estimators=n_estimators, max_depth=max_depth, importance_type='gain', \n",
    "                         random_state=1, tree_method='hist', grow_policy = 'lossguide')\n",
    "    model.fit(X,y)\n",
    "    y_pred = model.predict(X)\n",
    "    print('R2: ', round(model.score(X,y), 3))\n",
    "    print('RMSE: ', round(mean_squared_error(y, y_pred, squared = False), 3))\n",
    "    print('MBE: ', round(np.mean(y - y_pred), 3))\n",
    "    joblib.dump(model, 'models/full/' + filename + '_xgb_estimator.joblib') \n",
    "    return model"
   ]
  },
  {
   "cell_type": "markdown",
   "id": "6d2b02a1-9a84-4164-ae38-daabd8081abd",
   "metadata": {},
   "source": [
    "## Full Models"
   ]
  },
  {
   "cell_type": "markdown",
   "id": "b9c5f944-8b9e-4fe6-a25f-bbc084bb4956",
   "metadata": {},
   "source": [
    "### $\\Delta$AT Day"
   ]
  },
  {
   "cell_type": "code",
   "execution_count": 7,
   "id": "92d631e4-2676-47c9-86cc-d85696911f77",
   "metadata": {},
   "outputs": [
    {
     "name": "stdout",
     "output_type": "stream",
     "text": [
      "R2:  0.988\n",
      "RMSE:  0.115\n",
      "MBE:  0.0\n"
     ]
    }
   ],
   "source": [
    "model_at_d = get_model(label='$\\\\Delta$AT Day', n_estimators=100, max_depth=10, filename='AT_day')"
   ]
  },
  {
   "cell_type": "markdown",
   "id": "f871e1b3-e5b3-4beb-9a8c-cb6637698a53",
   "metadata": {},
   "source": [
    "### $\\Delta$AT Night"
   ]
  },
  {
   "cell_type": "code",
   "execution_count": 8,
   "id": "4c3aeb3d-ff33-4353-965a-a34dc54a9773",
   "metadata": {},
   "outputs": [
    {
     "name": "stdout",
     "output_type": "stream",
     "text": [
      "R2:  0.982\n",
      "RMSE:  0.114\n",
      "MBE:  0.0\n"
     ]
    }
   ],
   "source": [
    "model_at_n = get_model(label='$\\\\Delta$AT Night', n_estimators=100, max_depth=10, filename='AT_night')"
   ]
  },
  {
   "cell_type": "markdown",
   "id": "9b2b6239-c1aa-4e00-aa7f-1511a7638f29",
   "metadata": {},
   "source": [
    "### $\\Delta$LST Day"
   ]
  },
  {
   "cell_type": "code",
   "execution_count": 9,
   "id": "4e799484-b108-496a-a9d2-246eabfc3b11",
   "metadata": {},
   "outputs": [
    {
     "name": "stdout",
     "output_type": "stream",
     "text": [
      "R2:  0.978\n",
      "RMSE:  0.475\n",
      "MBE:  -0.0\n"
     ]
    }
   ],
   "source": [
    "model_lst_d = get_model(label='$\\\\Delta$LST Day', n_estimators=150, max_depth=10, filename='LST_day')"
   ]
  },
  {
   "cell_type": "markdown",
   "id": "07fe6114-6cd5-46ce-ac33-850915ffde17",
   "metadata": {},
   "source": [
    "### $\\Delta$LST Night"
   ]
  },
  {
   "cell_type": "code",
   "execution_count": 10,
   "id": "4dfd4c5b-5536-4d56-b48b-44d873cbe9f1",
   "metadata": {},
   "outputs": [
    {
     "name": "stdout",
     "output_type": "stream",
     "text": [
      "R2:  0.973\n",
      "RMSE:  0.187\n",
      "MBE:  0.0\n"
     ]
    }
   ],
   "source": [
    "model_lst_n = get_model(label='$\\\\Delta$LST Night', n_estimators=150, max_depth=10, filename='LST_night')"
   ]
  },
  {
   "cell_type": "code",
   "execution_count": null,
   "id": "fd7b2e10-4f36-42a9-96a5-c4bb6e0f60f5",
   "metadata": {},
   "outputs": [],
   "source": []
  }
 ],
 "metadata": {
  "kernelspec": {
   "display_name": "Python 3",
   "language": "python",
   "name": "python3"
  },
  "language_info": {
   "codemirror_mode": {
    "name": "ipython",
    "version": 3
   },
   "file_extension": ".py",
   "mimetype": "text/x-python",
   "name": "python",
   "nbconvert_exporter": "python",
   "pygments_lexer": "ipython3",
   "version": "3.8.8"
  }
 },
 "nbformat": 4,
 "nbformat_minor": 5
}
